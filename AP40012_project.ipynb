{
  "nbformat": 4,
  "nbformat_minor": 0,
  "metadata": {
    "colab": {
      "name": "AP40012_project.ipynb",
      "provenance": [],
      "collapsed_sections": [],
      "include_colab_link": true
    },
    "kernelspec": {
      "name": "python3",
      "display_name": "Python 3"
    },
    "language_info": {
      "name": "python"
    }
  },
  "cells": [
    {
      "cell_type": "markdown",
      "metadata": {
        "id": "view-in-github",
        "colab_type": "text"
      },
      "source": [
        "<a href=\"https://colab.research.google.com/github/YuLiuPotato/AP40012_project/blob/testing_colad_in_github/AP40012_project.ipynb\" target=\"_parent\"><img src=\"https://colab.research.google.com/assets/colab-badge.svg\" alt=\"Open In Colab\"/></a>"
      ]
    },
    {
      "cell_type": "markdown",
      "metadata": {
        "id": "_lGUxWMAWQRm"
      },
      "source": [
        "AP40012 Project\n",
        "Group 1"
      ]
    },
    {
      "cell_type": "markdown",
      "metadata": {
        "id": "BKkEcxaaWarZ"
      },
      "source": [
        "(Some rough idea, please also try something you want to try)\n"
      ]
    },
    {
      "cell_type": "code",
      "metadata": {
        "id": "rRH78JOoT6ds",
        "colab": {
          "base_uri": "https://localhost:8080/"
        },
        "outputId": "0287a2f9-294f-4481-cb7d-66124da4bffd"
      },
      "source": [
        "# used packages in the project\n",
        "import pandas as pd\n",
        "import numpy as np\n",
        "from sklearn.linear_model import LinearRegression\n",
        "import matplotlib.pyplot as plt\n",
        "%matplotlib inline\n",
        "import matplotlib\n",
        "print('testing')"
      ],
      "execution_count": 1,
      "outputs": [
        {
          "output_type": "stream",
          "text": [
            "testing\n"
          ],
          "name": "stdout"
        }
      ]
    },
    {
      "cell_type": "code",
      "metadata": {
        "colab": {
          "base_uri": "https://localhost:8080/"
        },
        "id": "qnESHY1YVY4k",
        "outputId": "6cad7c57-fd7d-4c71-e058-4c8e2b75c4b6"
      },
      "source": [
        "covid_raw = pd.read_csv('covid_19_data.csv')\n",
        "covid_raw.info()"
      ],
      "execution_count": null,
      "outputs": [
        {
          "output_type": "stream",
          "text": [
            "<class 'pandas.core.frame.DataFrame'>\n",
            "RangeIndex: 236017 entries, 0 to 236016\n",
            "Data columns (total 8 columns):\n",
            " #   Column           Non-Null Count   Dtype  \n",
            "---  ------           --------------   -----  \n",
            " 0   SNo              236017 non-null  int64  \n",
            " 1   ObservationDate  236017 non-null  object \n",
            " 2   Province/State   173972 non-null  object \n",
            " 3   Country/Region   236017 non-null  object \n",
            " 4   Last Update      236017 non-null  object \n",
            " 5   Confirmed        236017 non-null  float64\n",
            " 6   Deaths           236017 non-null  float64\n",
            " 7   Recovered        236017 non-null  float64\n",
            "dtypes: float64(3), int64(1), object(4)\n",
            "memory usage: 14.4+ MB\n"
          ],
          "name": "stdout"
        }
      ]
    },
    {
      "cell_type": "code",
      "metadata": {
        "colab": {
          "base_uri": "https://localhost:8080/"
        },
        "id": "vtEfvGk2Vb7a",
        "outputId": "8be3c671-8678-4af4-e412-40e04fe9cf01"
      },
      "source": [
        "region_name = \"Hong Kong\"\n",
        "covid = covid_raw.loc[covid_raw['Province/State'] == region_name]\n",
        "\n",
        "covid_train = covid[:300]\n",
        "covid_test = covid[301:]\n",
        "covid_train.info()"
      ],
      "execution_count": null,
      "outputs": [
        {
          "output_type": "stream",
          "text": [
            "<class 'pandas.core.frame.DataFrame'>\n",
            "Int64Index: 300 entries, 12 to 157140\n",
            "Data columns (total 8 columns):\n",
            " #   Column           Non-Null Count  Dtype  \n",
            "---  ------           --------------  -----  \n",
            " 0   SNo              300 non-null    int64  \n",
            " 1   ObservationDate  300 non-null    object \n",
            " 2   Province/State   300 non-null    object \n",
            " 3   Country/Region   300 non-null    object \n",
            " 4   Last Update      300 non-null    object \n",
            " 5   Confirmed        300 non-null    float64\n",
            " 6   Deaths           300 non-null    float64\n",
            " 7   Recovered        300 non-null    float64\n",
            "dtypes: float64(3), int64(1), object(4)\n",
            "memory usage: 21.1+ KB\n"
          ],
          "name": "stdout"
        }
      ]
    },
    {
      "cell_type": "code",
      "metadata": {
        "colab": {
          "base_uri": "https://localhost:8080/"
        },
        "id": "vqD47Hn_VhnA",
        "outputId": "520a7f27-a2b8-4ab4-997f-421fd3c5bf68"
      },
      "source": [
        "col_n = ['Confirmed','Deaths','Recovered']\n",
        "HK = pd.DataFrame(covid_train,columns = col_n)\n",
        "HK_test = pd.DataFrame(covid_test,columns = col_n)\n",
        "HK.info()"
      ],
      "execution_count": null,
      "outputs": [
        {
          "output_type": "stream",
          "text": [
            "<class 'pandas.core.frame.DataFrame'>\n",
            "Int64Index: 300 entries, 12 to 157140\n",
            "Data columns (total 3 columns):\n",
            " #   Column     Non-Null Count  Dtype  \n",
            "---  ------     --------------  -----  \n",
            " 0   Confirmed  300 non-null    float64\n",
            " 1   Deaths     300 non-null    float64\n",
            " 2   Recovered  300 non-null    float64\n",
            "dtypes: float64(3)\n",
            "memory usage: 9.4 KB\n"
          ],
          "name": "stdout"
        }
      ]
    },
    {
      "cell_type": "code",
      "metadata": {
        "id": "0ZSAYHrHVqJA"
      },
      "source": [
        "def generateCsv(df, file_name, move_forward = 0): # generate csv file\n",
        "    # use the data of day x as dependent variables(Y-vairables)\n",
        "    # data of day (x-moveForward) to day (x-1) will be the X-vairables\n",
        "    tempArray = np.array(df)\n",
        "    start_day_index = move_forward\n",
        "    with open(file_name+'.csv','w') as output:\n",
        "        write_c = lambda x: output.write(str(x)+',')\n",
        "        write_n = lambda x: output.write(str(x)+'\\n')\n",
        "        Range = lambda x: range(x+1)\n",
        "        def new_label(label, day):\n",
        "            if (day == move_forward):\n",
        "                return label\n",
        "            else:\n",
        "                return label+'_'+str(move_forward-day)+'_day(s)_ago'\n",
        "        # first line\n",
        "        for _ in Range(move_forward):\n",
        "            write_c(new_label('Infected',_))\n",
        "            write_c(new_label('Confirmed',_))\n",
        "            write_c(new_label('Deaths',_))\n",
        "            if ( _ == move_forward):\n",
        "                write_n(new_label('Recovered',_))\n",
        "            else:\n",
        "                write_c(new_label('Recovered',_))\n",
        "        # data\n",
        "        for index in range(start_day_index,len(tempArray)):\n",
        "            for _ in Range(move_forward):\n",
        "                write_c(tempArray[index-move_forward+_][0]-tempArray[index-move_forward+_][1]-tempArray[index-move_forward+_][2])\n",
        "                write_c(tempArray[index-move_forward+_][0])\n",
        "                write_c(tempArray[index-move_forward+_][1])\n",
        "                if ( _ == move_forward):\n",
        "                    write_n(tempArray[index-move_forward+_][2])\n",
        "                else:\n",
        "                    write_c(tempArray[index-move_forward+_][2]) "
      ],
      "execution_count": null,
      "outputs": []
    },
    {
      "cell_type": "code",
      "metadata": {
        "id": "Ridabr0AVtGQ"
      },
      "source": [
        "generateCsv(HK,'HK_new',5)\n",
        "generateCsv(HK_test,'HK_new_test',5)"
      ],
      "execution_count": null,
      "outputs": []
    },
    {
      "cell_type": "code",
      "metadata": {
        "colab": {
          "base_uri": "https://localhost:8080/"
        },
        "id": "beGt-2kbVvdT",
        "outputId": "1c13d155-d5c7-49fe-f8f9-8bca338a3302"
      },
      "source": [
        "df = pd.read_csv('HK_new.csv')\n",
        "df_test = pd.read_csv('HK_new_test.csv')\n",
        "df.info()"
      ],
      "execution_count": null,
      "outputs": [
        {
          "output_type": "stream",
          "text": [
            "<class 'pandas.core.frame.DataFrame'>\n",
            "RangeIndex: 295 entries, 0 to 294\n",
            "Data columns (total 24 columns):\n",
            " #   Column                  Non-Null Count  Dtype  \n",
            "---  ------                  --------------  -----  \n",
            " 0   Infected_5_day(s)_ago   295 non-null    float64\n",
            " 1   Confirmed_5_day(s)_ago  295 non-null    float64\n",
            " 2   Deaths_5_day(s)_ago     295 non-null    float64\n",
            " 3   Recovered_5_day(s)_ago  295 non-null    float64\n",
            " 4   Infected_4_day(s)_ago   295 non-null    float64\n",
            " 5   Confirmed_4_day(s)_ago  295 non-null    float64\n",
            " 6   Deaths_4_day(s)_ago     295 non-null    float64\n",
            " 7   Recovered_4_day(s)_ago  295 non-null    float64\n",
            " 8   Infected_3_day(s)_ago   295 non-null    float64\n",
            " 9   Confirmed_3_day(s)_ago  295 non-null    float64\n",
            " 10  Deaths_3_day(s)_ago     295 non-null    float64\n",
            " 11  Recovered_3_day(s)_ago  295 non-null    float64\n",
            " 12  Infected_2_day(s)_ago   295 non-null    float64\n",
            " 13  Confirmed_2_day(s)_ago  295 non-null    float64\n",
            " 14  Deaths_2_day(s)_ago     295 non-null    float64\n",
            " 15  Recovered_2_day(s)_ago  295 non-null    float64\n",
            " 16  Infected_1_day(s)_ago   295 non-null    float64\n",
            " 17  Confirmed_1_day(s)_ago  295 non-null    float64\n",
            " 18  Deaths_1_day(s)_ago     295 non-null    float64\n",
            " 19  Recovered_1_day(s)_ago  295 non-null    float64\n",
            " 20  Infected                295 non-null    float64\n",
            " 21  Confirmed               295 non-null    float64\n",
            " 22  Deaths                  295 non-null    float64\n",
            " 23  Recovered               295 non-null    float64\n",
            "dtypes: float64(24)\n",
            "memory usage: 55.4 KB\n"
          ],
          "name": "stdout"
        }
      ]
    },
    {
      "cell_type": "code",
      "metadata": {
        "id": "OFvG6xiPVxp0"
      },
      "source": [
        "infectant_df = pd.DataFrame( df ,columns = ['Infected'])\n",
        "confirm_df = pd.DataFrame( df ,columns = ['Confirmed'])\n",
        "death_df = pd.DataFrame( df ,columns = ['Deaths'])\n",
        "recover_df = pd.DataFrame( df ,columns = ['Recovered'])\n",
        "infectant_df_test = pd.DataFrame( df_test ,columns = ['Infected'])\n",
        "\n",
        "infectant_ar = np.c_[infectant_df]\n",
        "confirm_ar = np.c_[confirm_df]\n",
        "death_ar = np.c_[death_df]\n",
        "recover_ar = np.c_[recover_df]\n",
        "infectant_ar_test = np.c_[infectant_df_test]\n",
        "\n",
        "days = np.array(range(1,np.size(confirm_ar)+1))\n",
        "days_test = np.array(range(1,np.size(infectant_ar_test)+1))"
      ],
      "execution_count": null,
      "outputs": []
    },
    {
      "cell_type": "code",
      "metadata": {
        "colab": {
          "base_uri": "https://localhost:8080/",
          "height": 295
        },
        "id": "QTCsjzKgV1l-",
        "outputId": "6a471e30-e61b-4646-a0bd-442223e2efad"
      },
      "source": [
        "plt.plot(days,confirm_ar,marker='.',lw=0,c='blue',ms=5,label='confirmed')\n",
        "plt.plot(days,death_ar,marker='.',lw=0,c='red',ms=5,label='deaths')\n",
        "plt.plot(days,recover_ar,marker='.',lw=0,c='green',ms=5,label='recovered')\n",
        "plt.plot(days,infectant_ar,marker='.',lw=0,c='yellow',ms=5,label='infected')\n",
        "plt.title(\"HK covid-19 situation\")\n",
        "plt.xlabel('days')\n",
        "plt.ylabel('number')\n",
        "plt.legend()\n",
        "plt.show()"
      ],
      "execution_count": null,
      "outputs": [
        {
          "output_type": "display_data",
          "data": {
            "image/png": "[encoded data removed]",
            "text/plain": [
              "<Figure size 432x288 with 1 Axes>"
            ]
          },
          "metadata": {
            "tags": [],
            "needs_background": "light"
          }
        }
      ]
    },
    {
      "cell_type": "code",
      "metadata": {
        "colab": {
          "base_uri": "https://localhost:8080/"
        },
        "id": "e_q_rRXxWIEx",
        "outputId": "cce4182d-e953-464b-bef6-06e10f825d21"
      },
      "source": [
        "X = np.array(df.iloc[:,list(range(20))])\n",
        "X_test = np.array(df_test.iloc[:,list(range(20))])\n",
        "print(X.shape)"
      ],
      "execution_count": null,
      "outputs": [
        {
          "output_type": "stream",
          "text": [
            "(295, 20)\n"
          ],
          "name": "stdout"
        }
      ]
    },
    {
      "cell_type": "code",
      "metadata": {
        "colab": {
          "base_uri": "https://localhost:8080/"
        },
        "id": "ymnQrDbWV3SU",
        "outputId": "b7da32e6-56d3-41e4-ba6d-85444a2303e1"
      },
      "source": [
        "model = LinearRegression()\n",
        "model.fit(X,infectant_ar)"
      ],
      "execution_count": null,
      "outputs": [
        {
          "output_type": "execute_result",
          "data": {
            "text/plain": [
              "LinearRegression(copy_X=True, fit_intercept=True, n_jobs=None, normalize=False)"
            ]
          },
          "metadata": {
            "tags": []
          },
          "execution_count": 40
        }
      ]
    },
    {
      "cell_type": "code",
      "metadata": {
        "id": "1AmRU61KV5od"
      },
      "source": [
        "y_predict = model.predict(X_test)"
      ],
      "execution_count": null,
      "outputs": []
    },
    {
      "cell_type": "code",
      "metadata": {
        "colab": {
          "base_uri": "https://localhost:8080/",
          "height": 289
        },
        "id": "r1P1dePlV7Pi",
        "outputId": "87bf3986-0a32-45e8-e5e0-d78712934080"
      },
      "source": [
        "plt.plot(days_test,infectant_ar_test,marker='.',lw=0,c='b',ms=5,label='data')\n",
        "plt.plot(days_test,y_predict,marker='o',ms=0,lw=2,color='r',label='linear regression')\n",
        "plt.xlabel('days',fontsize=22)\n",
        "plt.ylabel('number',fontsize=22)\n",
        "plt.legend()\n",
        "plt.show()"
      ],
      "execution_count": null,
      "outputs": [
        {
          "output_type": "display_data",
          "data": {
            "image/png": "[encoded data removed]",
            "text/plain": [
              "<Figure size 432x288 with 1 Axes>"
            ]
          },
          "metadata": {
            "tags": [],
            "needs_background": "light"
          }
        }
      ]
    },
    {
      "cell_type": "code",
      "metadata": {
        "colab": {
          "base_uri": "https://localhost:8080/",
          "height": 289
        },
        "id": "2CykN-1U4dO7",
        "outputId": "442dc000-e219-4f67-d835-91e093fc0d0f"
      },
      "source": [
        "plt.plot(infectant_ar_test,y_predict,marker='.',color='r',lw=0.0,ms=2.0)\n",
        "plt.plot(range(1300),range(1300),color='k',lw=0.5,label='y = x')\n",
        "plt.xlabel('Infect predict',fontsize=22)\n",
        "plt.ylabel('Iefect data',fontsize=22)\n",
        "plt.legend()\n",
        "plt.show()"
      ],
      "execution_count": null,
      "outputs": [
        {
          "output_type": "display_data",
          "data": {
            "image/png": "[encoded data removed]",
            "text/plain": [
              "<Figure size 432x288 with 1 Axes>"
            ]
          },
          "metadata": {
            "tags": [],
            "needs_background": "light"
          }
        }
      ]
    },
    {
      "cell_type": "code",
      "metadata": {
        "colab": {
          "base_uri": "https://localhost:8080/"
        },
        "id": "3ffPTbp25wlk",
        "outputId": "4f2e0ae9-bf80-4e0b-f053-f20e4696a079"
      },
      "source": [
        "def r2(y,Y):\n",
        "  m = len(y)\n",
        "  mu = np.mean(y)\n",
        "  ss_res = 0\n",
        "  ss_tot = 0\n",
        "  for i in range(m):\n",
        "    ss_res += (y[i]-Y[i])**2\n",
        "    ss_tot += (y[i]-mu)**2\n",
        "  return 1-ss_res/ss_tot\n",
        "print((r2(infectant_ar_test,y_predict)))"
      ],
      "execution_count": null,
      "outputs": [
        {
          "output_type": "stream",
          "text": [
            "[0.99165883]\n"
          ],
          "name": "stdout"
        }
      ]
    }
  ]
}